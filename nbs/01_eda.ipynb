{
 "cells": [
  {
   "cell_type": "markdown",
   "metadata": {},
   "source": [
    "# EDA\n",
    "In this notebook we describe the general pipeline and perform the Exploratory Data Analysis (EDA) of the data on the level of patches of the histological images that was generated in the previous steps.<br>\n",
    "<p style=\"text-align:center;\">\n",
    "<img title=\"Patches generation workflow\"\n",
    "     alt=\"Alt text\"\n",
    "     src=\"./ims/data-generation-pipeline.png\"\n",
    "     width=\"800\"\n",
    "     height=\"500\">\n",
    "</p>\n",
    "\n",
    "Colorectal Cancer (CRC) is the third most common cancer in the world. It is a heterogeneous disease, which means that it is not the same for all patients. [Consensus Molecular Subtypes (CMSs)](https://www.nature.com/articles/nm.3967) were develop to help medical doctors to provide better treatment for patients. CMSs are based on the gene expression profiles of the tumor and very expensive in terms of money. At the same time histological images are much cheaper and easier to obtain. Deep Learning based [approach](https://gut.bmj.com/content/70/3/544.long) was developed to infer CMSs from histological images only. The Computer Vision approach seemed to be very promising despite utilization of a bit dated [Inception V3](https://arxiv.org/abs/1512.00567) architecture. Hypothesis of this project is that the state-of-the-art architectures will perform better than Inception V3. The goal of this project is to test this hypothesis.\n",
    "\n",
    "This notebook starts in the point where we have the pathces of histological images with corresponding labels in their filenames."
   ]
  },
  {
   "cell_type": "code",
   "execution_count": 1,
   "metadata": {},
   "outputs": [],
   "source": [
    "import pandas as pd\n",
    "\n",
    "# import from file in the parent directory\n",
    "import sys\n",
    "sys.path.append('../')\n",
    "from params import PATH_PATCHES, WANDB_PROJECT, ENTITY, RAW_DATA_AT\n",
    "assert PATH_PATCHES.exists()\n",
    "\n",
    "from fastai.vision.all import *\n",
    "import wandb"
   ]
  },
  {
   "cell_type": "code",
   "execution_count": 2,
   "metadata": {},
   "outputs": [
    {
     "name": "stdout",
     "output_type": "stream",
     "text": [
      "(766, 3)\n"
     ]
    },
    {
     "data": {
      "text/html": [
       "<div>\n",
       "<style scoped>\n",
       "    .dataframe tbody tr th:only-of-type {\n",
       "        vertical-align: middle;\n",
       "    }\n",
       "\n",
       "    .dataframe tbody tr th {\n",
       "        vertical-align: top;\n",
       "    }\n",
       "\n",
       "    .dataframe thead th {\n",
       "        text-align: right;\n",
       "    }\n",
       "</style>\n",
       "<table border=\"1\" class=\"dataframe\">\n",
       "  <thead>\n",
       "    <tr style=\"text-align: right;\">\n",
       "      <th></th>\n",
       "      <th>model</th>\n",
       "      <th>F1</th>\n",
       "      <th>error</th>\n",
       "    </tr>\n",
       "  </thead>\n",
       "  <tbody>\n",
       "    <tr>\n",
       "      <th>0</th>\n",
       "      <td>vit_large_r50_s32_224.augreg_in21k</td>\n",
       "      <td>0.836191</td>\n",
       "      <td>NaN</td>\n",
       "    </tr>\n",
       "    <tr>\n",
       "      <th>1</th>\n",
       "      <td>resnet14t.c3_in1k</td>\n",
       "      <td>0.780034</td>\n",
       "      <td>NaN</td>\n",
       "    </tr>\n",
       "    <tr>\n",
       "      <th>2</th>\n",
       "      <td>resnetv2_50x3_bit.goog_in21k_ft_in1k</td>\n",
       "      <td>0.739620</td>\n",
       "      <td>NaN</td>\n",
       "    </tr>\n",
       "    <tr>\n",
       "      <th>3</th>\n",
       "      <td>resnetv2_50x3_bit.goog_in21k</td>\n",
       "      <td>0.745324</td>\n",
       "      <td>NaN</td>\n",
       "    </tr>\n",
       "    <tr>\n",
       "      <th>4</th>\n",
       "      <td>vit_large_r50_s32_224.augreg_in21k_ft_in1k</td>\n",
       "      <td>0.781215</td>\n",
       "      <td>NaN</td>\n",
       "    </tr>\n",
       "  </tbody>\n",
       "</table>\n",
       "</div>"
      ],
      "text/plain": [
       "                                        model        F1 error\n",
       "0          vit_large_r50_s32_224.augreg_in21k  0.836191   NaN\n",
       "1                           resnet14t.c3_in1k  0.780034   NaN\n",
       "2        resnetv2_50x3_bit.goog_in21k_ft_in1k  0.739620   NaN\n",
       "3                resnetv2_50x3_bit.goog_in21k  0.745324   NaN\n",
       "4  vit_large_r50_s32_224.augreg_in21k_ft_in1k  0.781215   NaN"
      ]
     },
     "execution_count": 2,
     "metadata": {},
     "output_type": "execute_result"
    }
   ],
   "source": [
    "df = pd.read_csv('../benchmarking.csv')\n",
    "print(df.shape)\n",
    "df.head()"
   ]
  },
  {
   "cell_type": "code",
   "execution_count": 3,
   "metadata": {},
   "outputs": [
    {
     "data": {
      "text/plain": [
       "(763, 3)"
      ]
     },
     "execution_count": 3,
     "metadata": {},
     "output_type": "execute_result"
    }
   ],
   "source": [
    "# drop rows with missing values in F1 column\n",
    "df = df.dropna(subset=['F1'])\n",
    "df.shape"
   ]
  },
  {
   "cell_type": "code",
   "execution_count": 4,
   "metadata": {},
   "outputs": [
    {
     "data": {
      "text/html": [
       "<div>\n",
       "<style scoped>\n",
       "    .dataframe tbody tr th:only-of-type {\n",
       "        vertical-align: middle;\n",
       "    }\n",
       "\n",
       "    .dataframe tbody tr th {\n",
       "        vertical-align: top;\n",
       "    }\n",
       "\n",
       "    .dataframe thead th {\n",
       "        text-align: right;\n",
       "    }\n",
       "</style>\n",
       "<table border=\"1\" class=\"dataframe\">\n",
       "  <thead>\n",
       "    <tr style=\"text-align: right;\">\n",
       "      <th></th>\n",
       "      <th>model</th>\n",
       "      <th>F1</th>\n",
       "    </tr>\n",
       "  </thead>\n",
       "  <tbody>\n",
       "    <tr>\n",
       "      <th>0</th>\n",
       "      <td>vit_large_r50_s32_224.augreg_in21k</td>\n",
       "      <td>0.836191</td>\n",
       "    </tr>\n",
       "    <tr>\n",
       "      <th>1</th>\n",
       "      <td>resnet14t.c3_in1k</td>\n",
       "      <td>0.780034</td>\n",
       "    </tr>\n",
       "    <tr>\n",
       "      <th>2</th>\n",
       "      <td>resnetv2_50x3_bit.goog_in21k_ft_in1k</td>\n",
       "      <td>0.739620</td>\n",
       "    </tr>\n",
       "    <tr>\n",
       "      <th>3</th>\n",
       "      <td>resnetv2_50x3_bit.goog_in21k</td>\n",
       "      <td>0.745324</td>\n",
       "    </tr>\n",
       "    <tr>\n",
       "      <th>4</th>\n",
       "      <td>vit_large_r50_s32_224.augreg_in21k_ft_in1k</td>\n",
       "      <td>0.781215</td>\n",
       "    </tr>\n",
       "  </tbody>\n",
       "</table>\n",
       "</div>"
      ],
      "text/plain": [
       "                                        model        F1\n",
       "0          vit_large_r50_s32_224.augreg_in21k  0.836191\n",
       "1                           resnet14t.c3_in1k  0.780034\n",
       "2        resnetv2_50x3_bit.goog_in21k_ft_in1k  0.739620\n",
       "3                resnetv2_50x3_bit.goog_in21k  0.745324\n",
       "4  vit_large_r50_s32_224.augreg_in21k_ft_in1k  0.781215"
      ]
     },
     "execution_count": 4,
     "metadata": {},
     "output_type": "execute_result"
    }
   ],
   "source": [
    "# drop `error` column\n",
    "df = df.drop(columns=['error'])\n",
    "df.head()"
   ]
  },
  {
   "cell_type": "code",
   "execution_count": 5,
   "metadata": {},
   "outputs": [
    {
     "data": {
      "text/html": [
       "<div>\n",
       "<style scoped>\n",
       "    .dataframe tbody tr th:only-of-type {\n",
       "        vertical-align: middle;\n",
       "    }\n",
       "\n",
       "    .dataframe tbody tr th {\n",
       "        vertical-align: top;\n",
       "    }\n",
       "\n",
       "    .dataframe thead th {\n",
       "        text-align: right;\n",
       "    }\n",
       "</style>\n",
       "<table border=\"1\" class=\"dataframe\">\n",
       "  <thead>\n",
       "    <tr style=\"text-align: right;\">\n",
       "      <th></th>\n",
       "      <th>model</th>\n",
       "      <th>F1</th>\n",
       "    </tr>\n",
       "  </thead>\n",
       "  <tbody>\n",
       "    <tr>\n",
       "      <th>436</th>\n",
       "      <td>res2net101d.in1k</td>\n",
       "      <td>0.888734</td>\n",
       "    </tr>\n",
       "    <tr>\n",
       "      <th>10</th>\n",
       "      <td>rexnetr_300.sw_in12k_ft_in1k</td>\n",
       "      <td>0.857955</td>\n",
       "    </tr>\n",
       "    <tr>\n",
       "      <th>169</th>\n",
       "      <td>seresnextaa101d_32x8d.sw_in12k_ft_in1k_288</td>\n",
       "      <td>0.854830</td>\n",
       "    </tr>\n",
       "    <tr>\n",
       "      <th>179</th>\n",
       "      <td>coatnet_0_rw_224.sw_in1k</td>\n",
       "      <td>0.853199</td>\n",
       "    </tr>\n",
       "    <tr>\n",
       "      <th>0</th>\n",
       "      <td>vit_large_r50_s32_224.augreg_in21k</td>\n",
       "      <td>0.836191</td>\n",
       "    </tr>\n",
       "  </tbody>\n",
       "</table>\n",
       "</div>"
      ],
      "text/plain": [
       "                                          model        F1\n",
       "436                            res2net101d.in1k  0.888734\n",
       "10                 rexnetr_300.sw_in12k_ft_in1k  0.857955\n",
       "169  seresnextaa101d_32x8d.sw_in12k_ft_in1k_288  0.854830\n",
       "179                    coatnet_0_rw_224.sw_in1k  0.853199\n",
       "0            vit_large_r50_s32_224.augreg_in21k  0.836191"
      ]
     },
     "execution_count": 5,
     "metadata": {},
     "output_type": "execute_result"
    }
   ],
   "source": [
    "# sort by F1\n",
    "df = df.sort_values(by='F1', ascending=False)\n",
    "df.head()"
   ]
  },
  {
   "cell_type": "code",
   "execution_count": 6,
   "metadata": {},
   "outputs": [
    {
     "data": {
      "text/html": [
       "<div>\n",
       "<style scoped>\n",
       "    .dataframe tbody tr th:only-of-type {\n",
       "        vertical-align: middle;\n",
       "    }\n",
       "\n",
       "    .dataframe tbody tr th {\n",
       "        vertical-align: top;\n",
       "    }\n",
       "\n",
       "    .dataframe thead th {\n",
       "        text-align: right;\n",
       "    }\n",
       "</style>\n",
       "<table border=\"1\" class=\"dataframe\">\n",
       "  <thead>\n",
       "    <tr style=\"text-align: right;\">\n",
       "      <th></th>\n",
       "      <th>model</th>\n",
       "      <th>F1</th>\n",
       "    </tr>\n",
       "  </thead>\n",
       "  <tbody>\n",
       "    <tr>\n",
       "      <th>614</th>\n",
       "      <td>inception_v3.tf_in1k</td>\n",
       "      <td>0.546135</td>\n",
       "    </tr>\n",
       "    <tr>\n",
       "      <th>709</th>\n",
       "      <td>inception_resnet_v2.tf_ens_adv_in1k</td>\n",
       "      <td>0.541105</td>\n",
       "    </tr>\n",
       "    <tr>\n",
       "      <th>751</th>\n",
       "      <td>inception_v3.tv_in1k</td>\n",
       "      <td>0.514935</td>\n",
       "    </tr>\n",
       "    <tr>\n",
       "      <th>733</th>\n",
       "      <td>inception_v3.tf_adv_in1k</td>\n",
       "      <td>0.499923</td>\n",
       "    </tr>\n",
       "    <tr>\n",
       "      <th>565</th>\n",
       "      <td>inception_v3.gluon_in1k</td>\n",
       "      <td>0.479869</td>\n",
       "    </tr>\n",
       "    <tr>\n",
       "      <th>564</th>\n",
       "      <td>inception_resnet_v2.tf_in1k</td>\n",
       "      <td>0.462982</td>\n",
       "    </tr>\n",
       "    <tr>\n",
       "      <th>628</th>\n",
       "      <td>inception_v4.tf_in1k</td>\n",
       "      <td>0.437398</td>\n",
       "    </tr>\n",
       "  </tbody>\n",
       "</table>\n",
       "</div>"
      ],
      "text/plain": [
       "                                   model        F1\n",
       "614                 inception_v3.tf_in1k  0.546135\n",
       "709  inception_resnet_v2.tf_ens_adv_in1k  0.541105\n",
       "751                 inception_v3.tv_in1k  0.514935\n",
       "733             inception_v3.tf_adv_in1k  0.499923\n",
       "565              inception_v3.gluon_in1k  0.479869\n",
       "564          inception_resnet_v2.tf_in1k  0.462982\n",
       "628                 inception_v4.tf_in1k  0.437398"
      ]
     },
     "execution_count": 6,
     "metadata": {},
     "output_type": "execute_result"
    }
   ],
   "source": [
    "# get rows that have the \"inception\" in the model name\n",
    "df[df['model'].str.contains('inception')]"
   ]
  },
  {
   "cell_type": "code",
   "execution_count": 7,
   "metadata": {},
   "outputs": [
    {
     "data": {
      "text/plain": [
       "array(['inception_v3.tf_in1k', 'inception_resnet_v2.tf_ens_adv_in1k'],\n",
       "      dtype=object)"
      ]
     },
     "execution_count": 7,
     "metadata": {},
     "output_type": "execute_result"
    }
   ],
   "source": [
    "df[df['model'].str.contains('inception')]['model'].head(2).values"
   ]
  },
  {
   "cell_type": "code",
   "execution_count": 8,
   "metadata": {},
   "outputs": [
    {
     "data": {
      "text/plain": [
       "['res2net101d.in1k',\n",
       " 'rexnetr_300.sw_in12k_ft_in1k',\n",
       " 'seresnextaa101d_32x8d.sw_in12k_ft_in1k_288',\n",
       " 'coatnet_0_rw_224.sw_in1k',\n",
       " 'vit_large_r50_s32_224.augreg_in21k',\n",
       " 'resnext101_32x4d.fb_swsl_ig1b_ft_in1k',\n",
       " 'vit_base_r50_s16_224.orig_in21k',\n",
       " 'coatnet_rmlp_1_rw2_224.sw_in12k',\n",
       " 'inception_v3.tf_in1k',\n",
       " 'inception_resnet_v2.tf_ens_adv_in1k']"
      ]
     },
     "execution_count": 8,
     "metadata": {},
     "output_type": "execute_result"
    }
   ],
   "source": [
    "# select names of top 8 models by F1 score + top 2 inception models\n",
    "model_names = list(df['model'].head(8).values) + list(df[df['model'].str.contains('inception')]['model'].head(2).values)\n",
    "model_names"
   ]
  },
  {
   "cell_type": "code",
   "execution_count": 18,
   "metadata": {},
   "outputs": [],
   "source": [
    "# save model names to file\n",
    "with open('../models_to_benchmark.txt', 'w') as f:\n",
    "    for item in model_names:\n",
    "        f.write(\"%s\\n\" % item)"
   ]
  },
  {
   "cell_type": "code",
   "execution_count": 10,
   "metadata": {},
   "outputs": [],
   "source": [
    "def get_label(fname):\n",
    "    return fname.split('_')[-3]\n",
    "\n",
    "\n",
    "def _create_table(image_files):\n",
    "    \"\"\"Create a table with images and corresponding labels.\"\"\"\n",
    "    table = wandb.Table(columns=['Image', 'Label', 'Fname', 'Split'])\n",
    "\n",
    "    for i, image_file in progress_bar(enumerate(image_files), total=len(image_files)):\n",
    "        image = Image.open(image_file)\n",
    "        label = get_label(image_file.name)\n",
    "\n",
    "        table.add_data(wandb.Image(image),\n",
    "                       label,\n",
    "                       str(image_file.name),\n",
    "                       \"None\") # we don't have a split column yet\n",
    "\n",
    "    return table"
   ]
  },
  {
   "cell_type": "markdown",
   "metadata": {},
   "source": [
    "We will start a new W&B `run` and put everything into a raw Artifact."
   ]
  },
  {
   "cell_type": "code",
   "execution_count": 11,
   "metadata": {},
   "outputs": [
    {
     "name": "stderr",
     "output_type": "stream",
     "text": [
      "Failed to detect the name of this notebook, you can set it manually with the WANDB_NOTEBOOK_NAME environment variable to enable code saving.\n",
      "\u001b[34m\u001b[1mwandb\u001b[0m: Currently logged in as: \u001b[33mapopov\u001b[0m (\u001b[33mijc-amp\u001b[0m). Use \u001b[1m`wandb login --relogin`\u001b[0m to force relogin\n"
     ]
    },
    {
     "data": {
      "text/html": [
       "Tracking run with wandb version 0.15.12"
      ],
      "text/plain": [
       "<IPython.core.display.HTML object>"
      ]
     },
     "metadata": {},
     "output_type": "display_data"
    },
    {
     "data": {
      "text/html": [
       "Run data is saved locally in <code>/home/anton/Projects/PythonProjects/ijc-histology-wandb/nbs/wandb/run-20231015_121052-h1ajluq0</code>"
      ],
      "text/plain": [
       "<IPython.core.display.HTML object>"
      ]
     },
     "metadata": {},
     "output_type": "display_data"
    },
    {
     "data": {
      "text/html": [
       "Syncing run <strong><a href='https://wandb.ai/ijc-amp/ijc-histology-wandb/runs/h1ajluq0' target=\"_blank\">earthy-leaf-1</a></strong> to <a href='https://wandb.ai/ijc-amp/ijc-histology-wandb' target=\"_blank\">Weights & Biases</a> (<a href='https://wandb.me/run' target=\"_blank\">docs</a>)<br/>"
      ],
      "text/plain": [
       "<IPython.core.display.HTML object>"
      ]
     },
     "metadata": {},
     "output_type": "display_data"
    },
    {
     "data": {
      "text/html": [
       " View project at <a href='https://wandb.ai/ijc-amp/ijc-histology-wandb' target=\"_blank\">https://wandb.ai/ijc-amp/ijc-histology-wandb</a>"
      ],
      "text/plain": [
       "<IPython.core.display.HTML object>"
      ]
     },
     "metadata": {},
     "output_type": "display_data"
    },
    {
     "data": {
      "text/html": [
       " View run at <a href='https://wandb.ai/ijc-amp/ijc-histology-wandb/runs/h1ajluq0' target=\"_blank\">https://wandb.ai/ijc-amp/ijc-histology-wandb/runs/h1ajluq0</a>"
      ],
      "text/plain": [
       "<IPython.core.display.HTML object>"
      ]
     },
     "metadata": {},
     "output_type": "display_data"
    }
   ],
   "source": [
    "run = wandb.init(project=WANDB_PROJECT, entity=ENTITY, job_type='upload')\n",
    "raw_data_at = wandb.Artifact(RAW_DATA_AT, type='raw_data')"
   ]
  },
  {
   "cell_type": "code",
   "execution_count": 12,
   "metadata": {},
   "outputs": [
    {
     "name": "stderr",
     "output_type": "stream",
     "text": [
      "\u001b[34m\u001b[1mwandb\u001b[0m: Adding directory to artifact (/mnt/data/ijc-histology-data/TCGA-COAD-patches-5-percent)... Done. 0.5s\n"
     ]
    }
   ],
   "source": [
    "raw_data_at.add_dir(PATH_PATCHES, name='patches')"
   ]
  },
  {
   "cell_type": "markdown",
   "metadata": {},
   "source": [
    "Let's get the file names of images in our dataset and use the function we defined above to create a W&B Table. "
   ]
  },
  {
   "cell_type": "code",
   "execution_count": 13,
   "metadata": {},
   "outputs": [],
   "source": [
    "image_files = get_image_files(PATH_PATCHES, recurse=False)"
   ]
  },
  {
   "cell_type": "code",
   "execution_count": 14,
   "metadata": {},
   "outputs": [
    {
     "data": {
      "text/html": [
       "\n",
       "<style>\n",
       "    /* Turns off some styling */\n",
       "    progress {\n",
       "        /* gets rid of default border in Firefox and Opera. */\n",
       "        border: none;\n",
       "        /* Needs to be in here for Safari polyfill so background images work as expected. */\n",
       "        background-size: auto;\n",
       "    }\n",
       "    progress:not([value]), progress:not([value])::-webkit-progress-bar {\n",
       "        background: repeating-linear-gradient(45deg, #7e7e7e, #7e7e7e 10px, #5c5c5c 10px, #5c5c5c 20px);\n",
       "    }\n",
       "    .progress-bar-interrupted, .progress-bar-interrupted::-webkit-progress-bar {\n",
       "        background: #F44336;\n",
       "    }\n",
       "</style>\n"
      ],
      "text/plain": [
       "<IPython.core.display.HTML object>"
      ]
     },
     "metadata": {},
     "output_type": "display_data"
    },
    {
     "data": {
      "text/html": [
       "\n",
       "    <div>\n",
       "      <progress value='1415' class='' max='1415' style='width:300px; height:20px; vertical-align: middle;'></progress>\n",
       "      100.00% [1415/1415 00:10&lt;00:00]\n",
       "    </div>\n",
       "    "
      ],
      "text/plain": [
       "<IPython.core.display.HTML object>"
      ]
     },
     "metadata": {},
     "output_type": "display_data"
    }
   ],
   "source": [
    "table = _create_table(image_files)"
   ]
  },
  {
   "cell_type": "markdown",
   "metadata": {},
   "source": [
    "Finally, we will add the Table to our Artifact, log it to W&B and finish our `run`."
   ]
  },
  {
   "cell_type": "code",
   "execution_count": 15,
   "metadata": {},
   "outputs": [
    {
     "data": {
      "text/plain": [
       "ArtifactManifestEntry(path='labels_table.table.json', digest='/x+PtP9C+xW2hIvySl7wOA==', size=493269, local_path='/home/anton/.local/share/wandb/artifacts/staging/tmpc4unq51p')"
      ]
     },
     "execution_count": 15,
     "metadata": {},
     "output_type": "execute_result"
    }
   ],
   "source": [
    "raw_data_at.add(table, \"labels_table\")"
   ]
  },
  {
   "cell_type": "code",
   "execution_count": 16,
   "metadata": {},
   "outputs": [
    {
     "data": {
      "text/html": [
       "Waiting for W&B process to finish... <strong style=\"color:green\">(success).</strong>"
      ],
      "text/plain": [
       "<IPython.core.display.HTML object>"
      ]
     },
     "metadata": {},
     "output_type": "display_data"
    },
    {
     "data": {
      "text/html": [
       " View run <strong style=\"color:#cdcd00\">earthy-leaf-1</strong> at: <a href='https://wandb.ai/ijc-amp/ijc-histology-wandb/runs/h1ajluq0' target=\"_blank\">https://wandb.ai/ijc-amp/ijc-histology-wandb/runs/h1ajluq0</a><br/>Synced 5 W&B file(s), 0 media file(s), 2831 artifact file(s) and 0 other file(s)"
      ],
      "text/plain": [
       "<IPython.core.display.HTML object>"
      ]
     },
     "metadata": {},
     "output_type": "display_data"
    },
    {
     "data": {
      "text/html": [
       "Find logs at: <code>./wandb/run-20231015_121052-h1ajluq0/logs</code>"
      ],
      "text/plain": [
       "<IPython.core.display.HTML object>"
      ]
     },
     "metadata": {},
     "output_type": "display_data"
    }
   ],
   "source": [
    "run.log_artifact(raw_data_at)\n",
    "run.finish()"
   ]
  }
 ],
 "metadata": {
  "kernelspec": {
   "display_name": "histology",
   "language": "python",
   "name": "python3"
  },
  "language_info": {
   "codemirror_mode": {
    "name": "ipython",
    "version": 3
   },
   "file_extension": ".py",
   "mimetype": "text/x-python",
   "name": "python",
   "nbconvert_exporter": "python",
   "pygments_lexer": "ipython3",
   "version": "3.10.13"
  }
 },
 "nbformat": 4,
 "nbformat_minor": 2
}
